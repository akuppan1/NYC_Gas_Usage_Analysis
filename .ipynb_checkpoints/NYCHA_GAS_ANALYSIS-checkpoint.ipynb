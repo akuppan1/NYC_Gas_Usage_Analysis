{
 "cells": [
  {
   "cell_type": "code",
   "execution_count": 1,
   "metadata": {},
   "outputs": [],
   "source": [
    "import pandas as pd\n",
    "import seaborn as sns\n",
    "import matplotlib.pyplot as plt \n",
    "import numpy as np"
   ]
  },
  {
   "cell_type": "code",
   "execution_count": 2,
   "metadata": {},
   "outputs": [],
   "source": [
    "data = pd.read_csv('Heating_Gas_Consumption_And_Cost_2010_2020.csv')"
   ]
  },
  {
   "cell_type": "code",
   "execution_count": 3,
   "metadata": {},
   "outputs": [
    {
     "data": {
      "text/html": [
       "<div>\n",
       "<style scoped>\n",
       "    .dataframe tbody tr th:only-of-type {\n",
       "        vertical-align: middle;\n",
       "    }\n",
       "\n",
       "    .dataframe tbody tr th {\n",
       "        vertical-align: top;\n",
       "    }\n",
       "\n",
       "    .dataframe thead th {\n",
       "        text-align: right;\n",
       "    }\n",
       "</style>\n",
       "<table border=\"1\" class=\"dataframe\">\n",
       "  <thead>\n",
       "    <tr style=\"text-align: right;\">\n",
       "      <th></th>\n",
       "      <th>Development Name</th>\n",
       "      <th>Borough</th>\n",
       "      <th>Account Name</th>\n",
       "      <th>Location</th>\n",
       "      <th>Meter AMR</th>\n",
       "      <th>Meter Scope</th>\n",
       "      <th>TDS #</th>\n",
       "      <th>EDP</th>\n",
       "      <th>RC Code</th>\n",
       "      <th>Funding Source</th>\n",
       "      <th>...</th>\n",
       "      <th>Service End Date</th>\n",
       "      <th># days</th>\n",
       "      <th>Meter Number</th>\n",
       "      <th>Estimated</th>\n",
       "      <th>Current Charges</th>\n",
       "      <th>Rate Class</th>\n",
       "      <th>Bill Analyzed</th>\n",
       "      <th>Consumption (Therms)</th>\n",
       "      <th>ES Commodity</th>\n",
       "      <th>Underlying Utility</th>\n",
       "    </tr>\n",
       "  </thead>\n",
       "  <tbody>\n",
       "    <tr>\n",
       "      <th>0</th>\n",
       "      <td>BETANCES I</td>\n",
       "      <td>BRONX</td>\n",
       "      <td>BETANCES I</td>\n",
       "      <td>NaN</td>\n",
       "      <td>NONE</td>\n",
       "      <td>NaN</td>\n",
       "      <td>211.0</td>\n",
       "      <td>326</td>\n",
       "      <td>B021100</td>\n",
       "      <td>FEDERAL</td>\n",
       "      <td>...</td>\n",
       "      <td>01/31/2010</td>\n",
       "      <td>53.0</td>\n",
       "      <td>2545269</td>\n",
       "      <td>N</td>\n",
       "      <td>0.00</td>\n",
       "      <td>NaN</td>\n",
       "      <td>Yes</td>\n",
       "      <td>0.00</td>\n",
       "      <td>UTILITY GAS</td>\n",
       "      <td>ConEd</td>\n",
       "    </tr>\n",
       "    <tr>\n",
       "      <th>1</th>\n",
       "      <td>ADAMS</td>\n",
       "      <td>BRONX</td>\n",
       "      <td>ADAMS</td>\n",
       "      <td>BLD 04</td>\n",
       "      <td>NONE</td>\n",
       "      <td>BLD 1-7</td>\n",
       "      <td>118.0</td>\n",
       "      <td>248</td>\n",
       "      <td>B011800</td>\n",
       "      <td>FEDERAL</td>\n",
       "      <td>...</td>\n",
       "      <td>01/26/2010</td>\n",
       "      <td>33.0</td>\n",
       "      <td>3299599</td>\n",
       "      <td>N</td>\n",
       "      <td>78292.97</td>\n",
       "      <td>Trans Res MultiDwell Heat Dual</td>\n",
       "      <td>Yes</td>\n",
       "      <td>136632.00</td>\n",
       "      <td>UTILITY GAS</td>\n",
       "      <td>ConEd</td>\n",
       "    </tr>\n",
       "    <tr>\n",
       "      <th>2</th>\n",
       "      <td>ADAMS</td>\n",
       "      <td>BRONX</td>\n",
       "      <td>ADAMS</td>\n",
       "      <td>BLD 04</td>\n",
       "      <td>Not Applicable</td>\n",
       "      <td>NaN</td>\n",
       "      <td>118.0</td>\n",
       "      <td>248</td>\n",
       "      <td>B011800</td>\n",
       "      <td>FEDERAL</td>\n",
       "      <td>...</td>\n",
       "      <td>01/26/2010</td>\n",
       "      <td>32.0</td>\n",
       "      <td>3.95416E+14</td>\n",
       "      <td>N</td>\n",
       "      <td>133779.54</td>\n",
       "      <td>NaN</td>\n",
       "      <td>Yes</td>\n",
       "      <td>136632.00</td>\n",
       "      <td>BROKERED GAS</td>\n",
       "      <td>ConEd</td>\n",
       "    </tr>\n",
       "    <tr>\n",
       "      <th>3</th>\n",
       "      <td>ALBANY/ALBANY II</td>\n",
       "      <td>BROOKLYN</td>\n",
       "      <td>ALBANY/ALBANY II</td>\n",
       "      <td>ALBANY BLD 04</td>\n",
       "      <td>AMR</td>\n",
       "      <td>BLD 1-6</td>\n",
       "      <td>31.0</td>\n",
       "      <td>524</td>\n",
       "      <td>K003100</td>\n",
       "      <td>FEDERAL</td>\n",
       "      <td>...</td>\n",
       "      <td>01/28/2010</td>\n",
       "      <td>30.0</td>\n",
       "      <td>08372362-66.8%</td>\n",
       "      <td>N</td>\n",
       "      <td>44335.21</td>\n",
       "      <td>T3 Tran Mult Fam</td>\n",
       "      <td>Yes</td>\n",
       "      <td>153899.18</td>\n",
       "      <td>UTILITY GAS</td>\n",
       "      <td>NatGrid NYC</td>\n",
       "    </tr>\n",
       "    <tr>\n",
       "      <th>4</th>\n",
       "      <td>ALBANY/ALBANY II</td>\n",
       "      <td>BROOKLYN</td>\n",
       "      <td>ALBANY/ALBANY II</td>\n",
       "      <td>ALBANY BLD 04</td>\n",
       "      <td>AMR</td>\n",
       "      <td>BLD 7-9</td>\n",
       "      <td>85.0</td>\n",
       "      <td>524</td>\n",
       "      <td>K008500</td>\n",
       "      <td>FEDERAL</td>\n",
       "      <td>...</td>\n",
       "      <td>01/28/2010</td>\n",
       "      <td>30.0</td>\n",
       "      <td>08372362-33.2%</td>\n",
       "      <td>N</td>\n",
       "      <td>22034.86</td>\n",
       "      <td>T3 Tran Mult Fam</td>\n",
       "      <td>Yes</td>\n",
       "      <td>76488.82</td>\n",
       "      <td>UTILITY GAS</td>\n",
       "      <td>NatGrid NYC</td>\n",
       "    </tr>\n",
       "    <tr>\n",
       "      <th>...</th>\n",
       "      <td>...</td>\n",
       "      <td>...</td>\n",
       "      <td>...</td>\n",
       "      <td>...</td>\n",
       "      <td>...</td>\n",
       "      <td>...</td>\n",
       "      <td>...</td>\n",
       "      <td>...</td>\n",
       "      <td>...</td>\n",
       "      <td>...</td>\n",
       "      <td>...</td>\n",
       "      <td>...</td>\n",
       "      <td>...</td>\n",
       "      <td>...</td>\n",
       "      <td>...</td>\n",
       "      <td>...</td>\n",
       "      <td>...</td>\n",
       "      <td>...</td>\n",
       "      <td>...</td>\n",
       "      <td>...</td>\n",
       "      <td>...</td>\n",
       "    </tr>\n",
       "    <tr>\n",
       "      <th>198103</th>\n",
       "      <td>WYCKOFF GARDENS</td>\n",
       "      <td>BROOKLYN</td>\n",
       "      <td>WYCKOFF GARDENS</td>\n",
       "      <td>BLD 03</td>\n",
       "      <td>Not Applicable</td>\n",
       "      <td>NaN</td>\n",
       "      <td>163.0</td>\n",
       "      <td>272</td>\n",
       "      <td>K016300</td>\n",
       "      <td>FEDERAL</td>\n",
       "      <td>...</td>\n",
       "      <td>10/29/2020</td>\n",
       "      <td>33.0</td>\n",
       "      <td>00178911501</td>\n",
       "      <td>NaN</td>\n",
       "      <td>0.00</td>\n",
       "      <td>NaN</td>\n",
       "      <td>Yes</td>\n",
       "      <td>0.00</td>\n",
       "      <td>BROKERED GAS</td>\n",
       "      <td>NatGrid NYC</td>\n",
       "    </tr>\n",
       "    <tr>\n",
       "      <th>198104</th>\n",
       "      <td>WYCKOFF GARDENS</td>\n",
       "      <td>BROOKLYN</td>\n",
       "      <td>WYCKOFF GARDENS</td>\n",
       "      <td>BLD 03</td>\n",
       "      <td>Not Applicable</td>\n",
       "      <td>NaN</td>\n",
       "      <td>163.0</td>\n",
       "      <td>272</td>\n",
       "      <td>K016300</td>\n",
       "      <td>FEDERAL</td>\n",
       "      <td>...</td>\n",
       "      <td>12/01/2020</td>\n",
       "      <td>32.0</td>\n",
       "      <td>00178911501</td>\n",
       "      <td>N</td>\n",
       "      <td>12.95</td>\n",
       "      <td>NaN</td>\n",
       "      <td>Yes</td>\n",
       "      <td>31.00</td>\n",
       "      <td>BROKERED GAS</td>\n",
       "      <td>NatGrid NYC</td>\n",
       "    </tr>\n",
       "    <tr>\n",
       "      <th>198105</th>\n",
       "      <td>WYCKOFF GARDENS</td>\n",
       "      <td>BROOKLYN</td>\n",
       "      <td>WYCKOFF GARDENS</td>\n",
       "      <td>BLD 03</td>\n",
       "      <td>Not Applicable</td>\n",
       "      <td>NaN</td>\n",
       "      <td>163.0</td>\n",
       "      <td>272</td>\n",
       "      <td>K016300</td>\n",
       "      <td>FEDERAL</td>\n",
       "      <td>...</td>\n",
       "      <td>12/23/2020</td>\n",
       "      <td>21.0</td>\n",
       "      <td>00178911501</td>\n",
       "      <td>N</td>\n",
       "      <td>147.45</td>\n",
       "      <td>NaN</td>\n",
       "      <td>Yes</td>\n",
       "      <td>353.00</td>\n",
       "      <td>BROKERED GAS</td>\n",
       "      <td>NatGrid NYC</td>\n",
       "    </tr>\n",
       "    <tr>\n",
       "      <th>198106</th>\n",
       "      <td>WYCKOFF GARDENS</td>\n",
       "      <td>BROOKLYN</td>\n",
       "      <td>WYCKOFF GARDENS</td>\n",
       "      <td>BLD 03</td>\n",
       "      <td>Not Applicable</td>\n",
       "      <td>NaN</td>\n",
       "      <td>163.0</td>\n",
       "      <td>272</td>\n",
       "      <td>K016300</td>\n",
       "      <td>FEDERAL</td>\n",
       "      <td>...</td>\n",
       "      <td>01/26/2021</td>\n",
       "      <td>33.0</td>\n",
       "      <td>00178911501</td>\n",
       "      <td>N</td>\n",
       "      <td>43286.25</td>\n",
       "      <td>NaN</td>\n",
       "      <td>Yes</td>\n",
       "      <td>103630.00</td>\n",
       "      <td>BROKERED GAS</td>\n",
       "      <td>NatGrid NYC</td>\n",
       "    </tr>\n",
       "    <tr>\n",
       "      <th>198107</th>\n",
       "      <td>WYCKOFF GARDENS</td>\n",
       "      <td>BROOKLYN</td>\n",
       "      <td>WYCKOFF GARDENS</td>\n",
       "      <td>BLD 03</td>\n",
       "      <td>Not Applicable</td>\n",
       "      <td>NaN</td>\n",
       "      <td>163.0</td>\n",
       "      <td>272</td>\n",
       "      <td>K016300</td>\n",
       "      <td>FEDERAL</td>\n",
       "      <td>...</td>\n",
       "      <td>02/24/2021</td>\n",
       "      <td>28.0</td>\n",
       "      <td>00178911501</td>\n",
       "      <td>N</td>\n",
       "      <td>34604.77</td>\n",
       "      <td>NaN</td>\n",
       "      <td>Exception</td>\n",
       "      <td>82846.00</td>\n",
       "      <td>BROKERED GAS</td>\n",
       "      <td>NatGrid NYC</td>\n",
       "    </tr>\n",
       "  </tbody>\n",
       "</table>\n",
       "<p>198108 rows × 25 columns</p>\n",
       "</div>"
      ],
      "text/plain": [
       "        Development Name   Borough      Account Name       Location  \\\n",
       "0             BETANCES I     BRONX        BETANCES I            NaN   \n",
       "1                  ADAMS     BRONX             ADAMS         BLD 04   \n",
       "2                  ADAMS     BRONX             ADAMS         BLD 04   \n",
       "3       ALBANY/ALBANY II  BROOKLYN  ALBANY/ALBANY II  ALBANY BLD 04   \n",
       "4       ALBANY/ALBANY II  BROOKLYN  ALBANY/ALBANY II  ALBANY BLD 04   \n",
       "...                  ...       ...               ...            ...   \n",
       "198103   WYCKOFF GARDENS  BROOKLYN   WYCKOFF GARDENS         BLD 03   \n",
       "198104   WYCKOFF GARDENS  BROOKLYN   WYCKOFF GARDENS         BLD 03   \n",
       "198105   WYCKOFF GARDENS  BROOKLYN   WYCKOFF GARDENS         BLD 03   \n",
       "198106   WYCKOFF GARDENS  BROOKLYN   WYCKOFF GARDENS         BLD 03   \n",
       "198107   WYCKOFF GARDENS  BROOKLYN   WYCKOFF GARDENS         BLD 03   \n",
       "\n",
       "             Meter AMR Meter Scope  TDS #  EDP  RC Code Funding Source  ...  \\\n",
       "0                 NONE         NaN  211.0  326  B021100        FEDERAL  ...   \n",
       "1                 NONE     BLD 1-7  118.0  248  B011800        FEDERAL  ...   \n",
       "2       Not Applicable         NaN  118.0  248  B011800        FEDERAL  ...   \n",
       "3                  AMR     BLD 1-6   31.0  524  K003100        FEDERAL  ...   \n",
       "4                  AMR     BLD 7-9   85.0  524  K008500        FEDERAL  ...   \n",
       "...                ...         ...    ...  ...      ...            ...  ...   \n",
       "198103  Not Applicable         NaN  163.0  272  K016300        FEDERAL  ...   \n",
       "198104  Not Applicable         NaN  163.0  272  K016300        FEDERAL  ...   \n",
       "198105  Not Applicable         NaN  163.0  272  K016300        FEDERAL  ...   \n",
       "198106  Not Applicable         NaN  163.0  272  K016300        FEDERAL  ...   \n",
       "198107  Not Applicable         NaN  163.0  272  K016300        FEDERAL  ...   \n",
       "\n",
       "       Service End Date # days    Meter Number Estimated Current Charges  \\\n",
       "0            01/31/2010   53.0         2545269         N            0.00   \n",
       "1            01/26/2010   33.0         3299599         N        78292.97   \n",
       "2            01/26/2010   32.0     3.95416E+14         N       133779.54   \n",
       "3            01/28/2010   30.0  08372362-66.8%         N        44335.21   \n",
       "4            01/28/2010   30.0  08372362-33.2%         N        22034.86   \n",
       "...                 ...    ...             ...       ...             ...   \n",
       "198103       10/29/2020   33.0     00178911501       NaN            0.00   \n",
       "198104       12/01/2020   32.0     00178911501         N           12.95   \n",
       "198105       12/23/2020   21.0     00178911501         N          147.45   \n",
       "198106       01/26/2021   33.0     00178911501         N        43286.25   \n",
       "198107       02/24/2021   28.0     00178911501         N        34604.77   \n",
       "\n",
       "                            Rate Class  Bill Analyzed Consumption (Therms)  \\\n",
       "0                                  NaN            Yes                 0.00   \n",
       "1       Trans Res MultiDwell Heat Dual            Yes            136632.00   \n",
       "2                                  NaN            Yes            136632.00   \n",
       "3                     T3 Tran Mult Fam            Yes            153899.18   \n",
       "4                     T3 Tran Mult Fam            Yes             76488.82   \n",
       "...                                ...            ...                  ...   \n",
       "198103                             NaN            Yes                 0.00   \n",
       "198104                             NaN            Yes                31.00   \n",
       "198105                             NaN            Yes               353.00   \n",
       "198106                             NaN            Yes            103630.00   \n",
       "198107                             NaN      Exception             82846.00   \n",
       "\n",
       "        ES Commodity  Underlying Utility  \n",
       "0        UTILITY GAS               ConEd  \n",
       "1        UTILITY GAS               ConEd  \n",
       "2       BROKERED GAS               ConEd  \n",
       "3        UTILITY GAS         NatGrid NYC  \n",
       "4        UTILITY GAS         NatGrid NYC  \n",
       "...              ...                 ...  \n",
       "198103  BROKERED GAS         NatGrid NYC  \n",
       "198104  BROKERED GAS         NatGrid NYC  \n",
       "198105  BROKERED GAS         NatGrid NYC  \n",
       "198106  BROKERED GAS         NatGrid NYC  \n",
       "198107  BROKERED GAS         NatGrid NYC  \n",
       "\n",
       "[198108 rows x 25 columns]"
      ]
     },
     "execution_count": 3,
     "metadata": {},
     "output_type": "execute_result"
    }
   ],
   "source": [
    "data"
   ]
  },
  {
   "cell_type": "code",
   "execution_count": 4,
   "metadata": {},
   "outputs": [
    {
     "data": {
      "text/plain": [
       "'2010'"
      ]
     },
     "execution_count": 4,
     "metadata": {},
     "output_type": "execute_result"
    }
   ],
   "source": [
    "data['Revenue Month'][1][0:4]"
   ]
  },
  {
   "cell_type": "code",
   "execution_count": 5,
   "metadata": {},
   "outputs": [
    {
     "data": {
      "text/plain": [
       "range(0, 198108)"
      ]
     },
     "execution_count": 5,
     "metadata": {},
     "output_type": "execute_result"
    }
   ],
   "source": [
    "range(len(data))"
   ]
  },
  {
   "cell_type": "code",
   "execution_count": 6,
   "metadata": {},
   "outputs": [],
   "source": [
    "data['Revenue_Year'] = data['Revenue Month']"
   ]
  },
  {
   "cell_type": "code",
   "execution_count": 7,
   "metadata": {},
   "outputs": [
    {
     "name": "stderr",
     "output_type": "stream",
     "text": [
      "<ipython-input-7-57938a33e91b>:2: SettingWithCopyWarning: \n",
      "A value is trying to be set on a copy of a slice from a DataFrame\n",
      "\n",
      "See the caveats in the documentation: https://pandas.pydata.org/pandas-docs/stable/user_guide/indexing.html#returning-a-view-versus-a-copy\n",
      "  data['Revenue_Year'][x] = data['Revenue Month'][x][0:4]\n"
     ]
    }
   ],
   "source": [
    "for x in range(len(data)):\n",
    "    data['Revenue_Year'][x] = data['Revenue Month'][x][0:4]"
   ]
  },
  {
   "cell_type": "code",
   "execution_count": 8,
   "metadata": {},
   "outputs": [],
   "source": [
    "data['Revenue_Year'] = data['Revenue_Year'].astype(int)"
   ]
  },
  {
   "cell_type": "code",
   "execution_count": 9,
   "metadata": {},
   "outputs": [
    {
     "data": {
      "text/plain": [
       "numpy.int32"
      ]
     },
     "execution_count": 9,
     "metadata": {},
     "output_type": "execute_result"
    }
   ],
   "source": [
    "type(data['Revenue_Year'][1])"
   ]
  },
  {
   "cell_type": "code",
   "execution_count": 10,
   "metadata": {},
   "outputs": [
    {
     "name": "stdout",
     "output_type": "stream",
     "text": [
      "<class 'pandas.core.frame.DataFrame'>\n",
      "RangeIndex: 198108 entries, 0 to 198107\n",
      "Data columns (total 26 columns):\n",
      " #   Column                Non-Null Count   Dtype  \n",
      "---  ------                --------------   -----  \n",
      " 0   Development Name      197056 non-null  object \n",
      " 1   Borough               198108 non-null  object \n",
      " 2   Account Name          198108 non-null  object \n",
      " 3   Location              194520 non-null  object \n",
      " 4   Meter AMR             197774 non-null  object \n",
      " 5   Meter Scope           38371 non-null   object \n",
      " 6   TDS #                 195048 non-null  float64\n",
      " 7   EDP                   198108 non-null  int64  \n",
      " 8   RC Code               198108 non-null  object \n",
      " 9   Funding Source        198108 non-null  object \n",
      " 10  AMP #                 195866 non-null  object \n",
      " 11  Vendor Name           198108 non-null  object \n",
      " 12  UMIS BILL ID          198108 non-null  int64  \n",
      " 13  Revenue Month         198108 non-null  object \n",
      " 14  Service Start Date    198101 non-null  object \n",
      " 15  Service End Date      198101 non-null  object \n",
      " 16  # days                198101 non-null  float64\n",
      " 17  Meter Number          198108 non-null  object \n",
      " 18  Estimated             193438 non-null  object \n",
      " 19  Current Charges       198108 non-null  float64\n",
      " 20  Rate Class            100799 non-null  object \n",
      " 21  Bill Analyzed         198108 non-null  object \n",
      " 22  Consumption (Therms)  198108 non-null  float64\n",
      " 23  ES Commodity          198108 non-null  object \n",
      " 24  Underlying Utility    198035 non-null  object \n",
      " 25  Revenue_Year          198108 non-null  int32  \n",
      "dtypes: float64(4), int32(1), int64(2), object(19)\n",
      "memory usage: 38.5+ MB\n"
     ]
    }
   ],
   "source": [
    "data.info()"
   ]
  },
  {
   "cell_type": "code",
   "execution_count": 11,
   "metadata": {
    "scrolled": true
   },
   "outputs": [
    {
     "data": {
      "text/plain": [
       "2010    17151\n",
       "2011    17268\n",
       "2012    34860\n",
       "2014    18148\n",
       "2015    17250\n",
       "2016    17242\n",
       "2017    17171\n",
       "2018    17451\n",
       "2019    16171\n",
       "2020    22849\n",
       "2021     2547\n",
       "Name: Revenue_Year, dtype: int64"
      ]
     },
     "execution_count": 11,
     "metadata": {},
     "output_type": "execute_result"
    }
   ],
   "source": [
    "# data = data[data['Revenue_Year'] > 2020]\n",
    "data['Revenue_Year'].value_counts().sort_index()"
   ]
  },
  {
   "cell_type": "code",
   "execution_count": 12,
   "metadata": {},
   "outputs": [
    {
     "data": {
      "text/plain": [
       "<AxesSubplot:title={'center':'COUNTS PER YEAR OF ANY OCCURENCES OF NY HOUSING DEVELOPMENTS GAS PAYMENTS'}, xlabel='Revenue_Year', ylabel='count'>"
      ]
     },
     "execution_count": 12,
     "metadata": {},
     "output_type": "execute_result"
    },
    {
     "data": {
      "image/png": "[encoded data removed]",
      "text/plain": [
       "<Figure size 720x360 with 1 Axes>"
      ]
     },
     "metadata": {
      "needs_background": "light"
     },
     "output_type": "display_data"
    }
   ],
   "source": [
    "fig, ax = plt.subplots(ncols=1, nrows=1, figsize=(10,5))\n",
    "plt.title('COUNTS PER YEAR OF ANY OCCURENCES OF NY HOUSING DEVELOPMENTS GAS PAYMENTS')\n",
    "\n",
    "sns.countplot(data=data, x='Revenue_Year')\n",
    "\n"
   ]
  },
  {
   "cell_type": "code",
   "execution_count": 13,
   "metadata": {},
   "outputs": [
    {
     "data": {
      "text/plain": [
       "T3 TRAN MULT FAM                  37978\n",
       "Trans Res MultiDwell Heat         25571\n",
       "Trans Res MultiDwell Heat Dual    11095\n",
       "TRMDH                              6382\n",
       "Trans Gen Non-Res                  4534\n",
       "T1B TRAN RES HEAT                  4229\n",
       "TRMDHDF                            3009\n",
       "Trans Non-Res Heat                 1958\n",
       "T2-2 TRAN GENERAL                  1836\n",
       "T3 Tran Mult Fam                    860\n",
       "TR I NR                             772\n",
       "158 Del,Com,Multidwel,Heat          713\n",
       "TR II NR                            589\n",
       "MultiDwell Heat                     495\n",
       "GS2                                 125\n",
       "140 Del&Sup,Res,Home Heat           124\n",
       "177 Del,Com,Heat                    108\n",
       "Trans Gen MultiDwell Heat & AC       96\n",
       "250 Gas Non Resid General Use        76\n",
       "GS2 General Non-Residential          60\n",
       "GS3 Multiple Dwelling Heating        57\n",
       "TR I CGAc                            51\n",
       "GS3                                  28\n",
       "GS3 Multimple Dwelling Heating       24\n",
       "120 Del&Sup,Res,Gen Use              22\n",
       "MULT FAM HH/WH                        3\n",
       "GS2 General Non-residential           2\n",
       "T1A TRAN RES N-Ht                     1\n",
       "MULTI FAM HH/WH                       1\n",
       "Name: Rate Class, dtype: int64"
      ]
     },
     "execution_count": 13,
     "metadata": {},
     "output_type": "execute_result"
    }
   ],
   "source": [
    "data['Rate Class'].value_counts()"
   ]
  },
  {
   "cell_type": "code",
   "execution_count": 14,
   "metadata": {},
   "outputs": [
    {
     "data": {
      "text/plain": [
       "CONSOLIDATED EDISON COMPANY OF NY    54878\n",
       "National Grid NYC                    44910\n",
       "DIRECT ENERGY BUSINESS (32179)       36113\n",
       "HESS CORPORATION (905243) - 2        29465\n",
       "EAST COAST POWER & GAS               16245\n",
       "Hudson Energy ServicesB               9061\n",
       "DIRECT ENERGY BUSINESS (905243)       4405\n",
       "EAST COAST POWER AND GAS (MRI)        1915\n",
       "National Grid LI                      1043\n",
       "Hudson Energy Services LI               73\n",
       "Name: Vendor Name, dtype: int64"
      ]
     },
     "execution_count": 14,
     "metadata": {},
     "output_type": "execute_result"
    }
   ],
   "source": [
    "data['Vendor Name'].value_counts()"
   ]
  },
  {
   "cell_type": "code",
   "execution_count": 15,
   "metadata": {},
   "outputs": [
    {
     "data": {
      "text/plain": [
       "FEDERAL               177241\n",
       "MIXED FINANCE/LLC1     16428\n",
       "NON-DEVELOPMENT         2231\n",
       "MIXED FINANCE/LLC2      1911\n",
       "FEDERAL-COOP             193\n",
       "Federal                  104\n",
       "Name: Funding Source, dtype: int64"
      ]
     },
     "execution_count": 15,
     "metadata": {},
     "output_type": "execute_result"
    }
   ],
   "source": [
    "data['Funding Source'].value_counts()"
   ]
  },
  {
   "cell_type": "code",
   "execution_count": 16,
   "metadata": {},
   "outputs": [
    {
     "data": {
      "text/plain": [
       "UTILITY GAS     100831\n",
       "BROKERED GAS     97277\n",
       "Name: ES Commodity, dtype: int64"
      ]
     },
     "execution_count": 16,
     "metadata": {},
     "output_type": "execute_result"
    }
   ],
   "source": [
    "data['ES Commodity'].value_counts()"
   ]
  },
  {
   "cell_type": "code",
   "execution_count": 17,
   "metadata": {},
   "outputs": [
    {
     "data": {
      "text/plain": [
       "ConEd          108369\n",
       "NatGrid NYC     87627\n",
       "NatGrid LI       1984\n",
       "ConED              55\n",
       "Name: Underlying Utility, dtype: int64"
      ]
     },
     "execution_count": 17,
     "metadata": {},
     "output_type": "execute_result"
    }
   ],
   "source": [
    "data['Underlying Utility'].value_counts()"
   ]
  },
  {
   "cell_type": "code",
   "execution_count": 18,
   "metadata": {},
   "outputs": [
    {
     "data": {
      "text/plain": [
       "BROOKLYN                    77788\n",
       "MANHATTAN                   51745\n",
       "BRONX                       50966\n",
       "QUEENS                       8509\n",
       "STATEN ISLAND                3601\n",
       "FHA                          3268\n",
       "NON DEVELOPMENT FACILITY     2231\n",
       "Name: Borough, dtype: int64"
      ]
     },
     "execution_count": 18,
     "metadata": {},
     "output_type": "execute_result"
    }
   ],
   "source": [
    "data['Borough'].value_counts()"
   ]
  },
  {
   "cell_type": "code",
   "execution_count": 19,
   "metadata": {},
   "outputs": [
    {
     "data": {
      "text/plain": [
       "SAMUEL (CITY)                        11532\n",
       "BUSHWICK II (GROUPS B & D)            7195\n",
       "BUSHWICK II (GROUPS A & C)            6911\n",
       "FENIMORE-LEFFERTS                     4981\n",
       "TAPSCOTT STREET REHAB                 3252\n",
       "                                     ...  \n",
       "BETANCES II (BLD 1)                    108\n",
       "BETANCES III (BLD 2-3)                 106\n",
       "FHA REPOSSESSED HOUSES (GROUP II)       34\n",
       "BETANCES I                              29\n",
       "WEST SIDE URBAN RENEWAL (SITE B)         4\n",
       "Name: Account Name, Length: 319, dtype: int64"
      ]
     },
     "execution_count": 19,
     "metadata": {},
     "output_type": "execute_result"
    }
   ],
   "source": [
    "data['Account Name'].value_counts()"
   ]
  },
  {
   "cell_type": "code",
   "execution_count": 20,
   "metadata": {},
   "outputs": [
    {
     "data": {
      "text/plain": [
       "BLD 01                          43862\n",
       "BLD 02                          20924\n",
       "BLD 03                          16885\n",
       "BLD 04                          16864\n",
       "BLD 05                          10397\n",
       "                                ...  \n",
       "BLD 7                               8\n",
       "BLD 6                               7\n",
       "340 Williams Avenue                 4\n",
       "Bldg #6- 325 Fountain Avenue        1\n",
       "GEN                                 1\n",
       "Name: Location, Length: 127, dtype: int64"
      ]
     },
     "execution_count": 20,
     "metadata": {},
     "output_type": "execute_result"
    }
   ],
   "source": [
    "data['Location'].value_counts()"
   ]
  },
  {
   "cell_type": "code",
   "execution_count": 21,
   "metadata": {},
   "outputs": [
    {
     "data": {
      "text/plain": [
       "SAMUEL (CITY)                        11532\n",
       "BUSHWICK II (GROUPS B & D)            7195\n",
       "BUSHWICK II (GROUPS A & C)            6911\n",
       "FENIMORE-LEFFERTS                     4981\n",
       "TAPSCOTT STREET REHAB                 3252\n",
       "                                     ...  \n",
       "BETANCES III (BLD 2-3)                  61\n",
       "BETANCES II (BLD 1)                     61\n",
       "FHA REPOSSESSED HOUSES (GROUP II)       34\n",
       "BETANCES I                              29\n",
       "WSUR (SITE B) 74 WEST 92ND STREET        4\n",
       "Name: Development Name, Length: 375, dtype: int64"
      ]
     },
     "execution_count": 21,
     "metadata": {},
     "output_type": "execute_result"
    }
   ],
   "source": [
    "data['Development Name'].value_counts()"
   ]
  },
  {
   "cell_type": "code",
   "execution_count": 22,
   "metadata": {},
   "outputs": [],
   "source": [
    "#Hypothesis , if the total avg thermal consumption is decreasing, then could indicate global warming?\n",
    "\n",
    "# Narrow down by year of total therm consumption\n",
    "#Get average per year - y values\n",
    "#x values is list of years\n",
    "#compare average numbers per year in bar plot"
   ]
  },
  {
   "cell_type": "code",
   "execution_count": 23,
   "metadata": {},
   "outputs": [],
   "source": [
    "# year_list = list(data['Revenue_Year'].unique())\n",
    "# year_list = year_list[:-1]\n",
    "# year_list = year_list.sort()\n",
    "# year_list"
   ]
  },
  {
   "cell_type": "code",
   "execution_count": 24,
   "metadata": {},
   "outputs": [],
   "source": [
    "year_list = list(data['Revenue_Year'].unique())[:-1]\n",
    "year_list.sort()\n"
   ]
  },
  {
   "cell_type": "code",
   "execution_count": 25,
   "metadata": {},
   "outputs": [
    {
     "data": {
      "text/plain": [
       "[2010, 2011, 2012, 2014, 2015, 2016, 2017, 2018, 2019, 2020]"
      ]
     },
     "execution_count": 25,
     "metadata": {},
     "output_type": "execute_result"
    }
   ],
   "source": [
    "year_list"
   ]
  },
  {
   "cell_type": "code",
   "execution_count": 26,
   "metadata": {},
   "outputs": [
    {
     "name": "stdout",
     "output_type": "stream",
     "text": [
      "2010\n",
      "2011\n",
      "2012\n",
      "2014\n",
      "2015\n",
      "2016\n",
      "2017\n",
      "2018\n",
      "2019\n",
      "2020\n"
     ]
    },
    {
     "data": {
      "text/plain": [
       "[17495.0,\n",
       " 18203.0,\n",
       " 16869.0,\n",
       " 18667.0,\n",
       " 19546.0,\n",
       " 19131.0,\n",
       " 20278.0,\n",
       " 21926.0,\n",
       " 21885.0]"
      ]
     },
     "execution_count": 26,
     "metadata": {},
     "output_type": "execute_result"
    }
   ],
   "source": [
    "average_list=[]\n",
    "data_1 = pd.DataFrame()\n",
    "\n",
    "for year in year_list:\n",
    "    data_1 = data[data['Revenue_Year'] == year]\n",
    "    print(year)\n",
    "    avg = np.mean(data_1['Consumption (Therms)'])\n",
    "    avg1 = np.rint(avg)\n",
    "    average_list.append(avg1)\n",
    "\n",
    "average_list = average_list[:-1]\n",
    "average_list"
   ]
  },
  {
   "cell_type": "code",
   "execution_count": 27,
   "metadata": {},
   "outputs": [],
   "source": [
    "# sns.scatterplot(average_list)"
   ]
  },
  {
   "cell_type": "code",
   "execution_count": 28,
   "metadata": {},
   "outputs": [],
   "source": [
    "# sns.barplot(x=year_list, y=average_list)"
   ]
  },
  {
   "cell_type": "code",
   "execution_count": 29,
   "metadata": {},
   "outputs": [
    {
     "data": {
      "text/html": [
       "<div>\n",
       "<style scoped>\n",
       "    .dataframe tbody tr th:only-of-type {\n",
       "        vertical-align: middle;\n",
       "    }\n",
       "\n",
       "    .dataframe tbody tr th {\n",
       "        vertical-align: top;\n",
       "    }\n",
       "\n",
       "    .dataframe thead th {\n",
       "        text-align: right;\n",
       "    }\n",
       "</style>\n",
       "<table border=\"1\" class=\"dataframe\">\n",
       "  <thead>\n",
       "    <tr style=\"text-align: right;\">\n",
       "      <th></th>\n",
       "      <th>Development Name</th>\n",
       "      <th>Borough</th>\n",
       "      <th>Account Name</th>\n",
       "      <th>Location</th>\n",
       "      <th>Meter AMR</th>\n",
       "      <th>Meter Scope</th>\n",
       "      <th>TDS #</th>\n",
       "      <th>EDP</th>\n",
       "      <th>RC Code</th>\n",
       "      <th>Funding Source</th>\n",
       "      <th>...</th>\n",
       "      <th># days</th>\n",
       "      <th>Meter Number</th>\n",
       "      <th>Estimated</th>\n",
       "      <th>Current Charges</th>\n",
       "      <th>Rate Class</th>\n",
       "      <th>Bill Analyzed</th>\n",
       "      <th>Consumption (Therms)</th>\n",
       "      <th>ES Commodity</th>\n",
       "      <th>Underlying Utility</th>\n",
       "      <th>Revenue_Year</th>\n",
       "    </tr>\n",
       "  </thead>\n",
       "  <tbody>\n",
       "    <tr>\n",
       "      <th>178509</th>\n",
       "      <td>ADAMS</td>\n",
       "      <td>BRONX</td>\n",
       "      <td>ADAMS</td>\n",
       "      <td>BLD 04</td>\n",
       "      <td>NONE</td>\n",
       "      <td>BLD 1-7</td>\n",
       "      <td>118.0</td>\n",
       "      <td>248</td>\n",
       "      <td>B011800</td>\n",
       "      <td>FEDERAL</td>\n",
       "      <td>...</td>\n",
       "      <td>34.0</td>\n",
       "      <td>3299599</td>\n",
       "      <td>N</td>\n",
       "      <td>124650.35</td>\n",
       "      <td>TRMDHDF</td>\n",
       "      <td>Yes</td>\n",
       "      <td>163272.46</td>\n",
       "      <td>UTILITY GAS</td>\n",
       "      <td>ConEd</td>\n",
       "      <td>2021</td>\n",
       "    </tr>\n",
       "    <tr>\n",
       "      <th>178510</th>\n",
       "      <td>ADAMS</td>\n",
       "      <td>BRONX</td>\n",
       "      <td>ADAMS</td>\n",
       "      <td>BLD 04</td>\n",
       "      <td>NONE</td>\n",
       "      <td>BLD 1-7</td>\n",
       "      <td>118.0</td>\n",
       "      <td>248</td>\n",
       "      <td>B011800</td>\n",
       "      <td>FEDERAL</td>\n",
       "      <td>...</td>\n",
       "      <td>30.0</td>\n",
       "      <td>3299599</td>\n",
       "      <td>N</td>\n",
       "      <td>103974.97</td>\n",
       "      <td>TRMDHDF</td>\n",
       "      <td>Yes</td>\n",
       "      <td>162327.62</td>\n",
       "      <td>UTILITY GAS</td>\n",
       "      <td>ConEd</td>\n",
       "      <td>2021</td>\n",
       "    </tr>\n",
       "    <tr>\n",
       "      <th>178520</th>\n",
       "      <td>ADAMS</td>\n",
       "      <td>BRONX</td>\n",
       "      <td>ADAMS</td>\n",
       "      <td>BLD 04</td>\n",
       "      <td>Not Applicable</td>\n",
       "      <td>NaN</td>\n",
       "      <td>118.0</td>\n",
       "      <td>248</td>\n",
       "      <td>B011800</td>\n",
       "      <td>FEDERAL</td>\n",
       "      <td>...</td>\n",
       "      <td>33.0</td>\n",
       "      <td>395416152700002</td>\n",
       "      <td>N</td>\n",
       "      <td>74680.61</td>\n",
       "      <td>NaN</td>\n",
       "      <td>Yes</td>\n",
       "      <td>163272.00</td>\n",
       "      <td>BROKERED GAS</td>\n",
       "      <td>ConEd</td>\n",
       "      <td>2021</td>\n",
       "    </tr>\n",
       "    <tr>\n",
       "      <th>178521</th>\n",
       "      <td>ADAMS</td>\n",
       "      <td>BRONX</td>\n",
       "      <td>ADAMS</td>\n",
       "      <td>BLD 04</td>\n",
       "      <td>Not Applicable</td>\n",
       "      <td>NaN</td>\n",
       "      <td>118.0</td>\n",
       "      <td>248</td>\n",
       "      <td>B011800</td>\n",
       "      <td>FEDERAL</td>\n",
       "      <td>...</td>\n",
       "      <td>29.0</td>\n",
       "      <td>395416152700002</td>\n",
       "      <td>N</td>\n",
       "      <td>74248.83</td>\n",
       "      <td>NaN</td>\n",
       "      <td>Yes</td>\n",
       "      <td>162328.00</td>\n",
       "      <td>BROKERED GAS</td>\n",
       "      <td>ConEd</td>\n",
       "      <td>2021</td>\n",
       "    </tr>\n",
       "    <tr>\n",
       "      <th>178554</th>\n",
       "      <td>ALBANY</td>\n",
       "      <td>BROOKLYN</td>\n",
       "      <td>ALBANY/ALBANY II</td>\n",
       "      <td>ALBANY BLD 04</td>\n",
       "      <td>AMR</td>\n",
       "      <td>BLD 1-6</td>\n",
       "      <td>31.0</td>\n",
       "      <td>524</td>\n",
       "      <td>K003100</td>\n",
       "      <td>FEDERAL</td>\n",
       "      <td>...</td>\n",
       "      <td>34.0</td>\n",
       "      <td>08372362-66.8%</td>\n",
       "      <td>N</td>\n",
       "      <td>47035.14</td>\n",
       "      <td>T3 TRAN MULT FAM</td>\n",
       "      <td>Yes</td>\n",
       "      <td>120950.75</td>\n",
       "      <td>UTILITY GAS</td>\n",
       "      <td>NatGrid NYC</td>\n",
       "      <td>2021</td>\n",
       "    </tr>\n",
       "    <tr>\n",
       "      <th>...</th>\n",
       "      <td>...</td>\n",
       "      <td>...</td>\n",
       "      <td>...</td>\n",
       "      <td>...</td>\n",
       "      <td>...</td>\n",
       "      <td>...</td>\n",
       "      <td>...</td>\n",
       "      <td>...</td>\n",
       "      <td>...</td>\n",
       "      <td>...</td>\n",
       "      <td>...</td>\n",
       "      <td>...</td>\n",
       "      <td>...</td>\n",
       "      <td>...</td>\n",
       "      <td>...</td>\n",
       "      <td>...</td>\n",
       "      <td>...</td>\n",
       "      <td>...</td>\n",
       "      <td>...</td>\n",
       "      <td>...</td>\n",
       "      <td>...</td>\n",
       "    </tr>\n",
       "    <tr>\n",
       "      <th>198078</th>\n",
       "      <td>WOODSON</td>\n",
       "      <td>BROOKLYN</td>\n",
       "      <td>WOODSON</td>\n",
       "      <td>BLD 02</td>\n",
       "      <td>Not Applicable</td>\n",
       "      <td>NaN</td>\n",
       "      <td>182.0</td>\n",
       "      <td>285</td>\n",
       "      <td>K018200</td>\n",
       "      <td>FEDERAL</td>\n",
       "      <td>...</td>\n",
       "      <td>22.0</td>\n",
       "      <td>00548925110</td>\n",
       "      <td>N</td>\n",
       "      <td>23889.93</td>\n",
       "      <td>NaN</td>\n",
       "      <td>Yes</td>\n",
       "      <td>57194.00</td>\n",
       "      <td>BROKERED GAS</td>\n",
       "      <td>NatGrid NYC</td>\n",
       "      <td>2021</td>\n",
       "    </tr>\n",
       "    <tr>\n",
       "      <th>198091</th>\n",
       "      <td>WYCKOFF GARDENS</td>\n",
       "      <td>BROOKLYN</td>\n",
       "      <td>WYCKOFF GARDENS</td>\n",
       "      <td>BLD 03</td>\n",
       "      <td>AMR</td>\n",
       "      <td>BLD 1-3</td>\n",
       "      <td>163.0</td>\n",
       "      <td>272</td>\n",
       "      <td>K016300</td>\n",
       "      <td>FEDERAL</td>\n",
       "      <td>...</td>\n",
       "      <td>34.0</td>\n",
       "      <td>17291558</td>\n",
       "      <td>Y</td>\n",
       "      <td>40399.23</td>\n",
       "      <td>T3 TRAN MULT FAM</td>\n",
       "      <td>Yes</td>\n",
       "      <td>103630.00</td>\n",
       "      <td>UTILITY GAS</td>\n",
       "      <td>NatGrid NYC</td>\n",
       "      <td>2021</td>\n",
       "    </tr>\n",
       "    <tr>\n",
       "      <th>198092</th>\n",
       "      <td>WYCKOFF GARDENS</td>\n",
       "      <td>BROOKLYN</td>\n",
       "      <td>WYCKOFF GARDENS</td>\n",
       "      <td>BLD 03</td>\n",
       "      <td>AMR</td>\n",
       "      <td>BLD 1-3</td>\n",
       "      <td>163.0</td>\n",
       "      <td>272</td>\n",
       "      <td>K016300</td>\n",
       "      <td>FEDERAL</td>\n",
       "      <td>...</td>\n",
       "      <td>29.0</td>\n",
       "      <td>17291558</td>\n",
       "      <td>Y</td>\n",
       "      <td>26746.67</td>\n",
       "      <td>T3 TRAN MULT FAM</td>\n",
       "      <td>Yes</td>\n",
       "      <td>82846.00</td>\n",
       "      <td>UTILITY GAS</td>\n",
       "      <td>NatGrid NYC</td>\n",
       "      <td>2021</td>\n",
       "    </tr>\n",
       "    <tr>\n",
       "      <th>198106</th>\n",
       "      <td>WYCKOFF GARDENS</td>\n",
       "      <td>BROOKLYN</td>\n",
       "      <td>WYCKOFF GARDENS</td>\n",
       "      <td>BLD 03</td>\n",
       "      <td>Not Applicable</td>\n",
       "      <td>NaN</td>\n",
       "      <td>163.0</td>\n",
       "      <td>272</td>\n",
       "      <td>K016300</td>\n",
       "      <td>FEDERAL</td>\n",
       "      <td>...</td>\n",
       "      <td>33.0</td>\n",
       "      <td>00178911501</td>\n",
       "      <td>N</td>\n",
       "      <td>43286.25</td>\n",
       "      <td>NaN</td>\n",
       "      <td>Yes</td>\n",
       "      <td>103630.00</td>\n",
       "      <td>BROKERED GAS</td>\n",
       "      <td>NatGrid NYC</td>\n",
       "      <td>2021</td>\n",
       "    </tr>\n",
       "    <tr>\n",
       "      <th>198107</th>\n",
       "      <td>WYCKOFF GARDENS</td>\n",
       "      <td>BROOKLYN</td>\n",
       "      <td>WYCKOFF GARDENS</td>\n",
       "      <td>BLD 03</td>\n",
       "      <td>Not Applicable</td>\n",
       "      <td>NaN</td>\n",
       "      <td>163.0</td>\n",
       "      <td>272</td>\n",
       "      <td>K016300</td>\n",
       "      <td>FEDERAL</td>\n",
       "      <td>...</td>\n",
       "      <td>28.0</td>\n",
       "      <td>00178911501</td>\n",
       "      <td>N</td>\n",
       "      <td>34604.77</td>\n",
       "      <td>NaN</td>\n",
       "      <td>Exception</td>\n",
       "      <td>82846.00</td>\n",
       "      <td>BROKERED GAS</td>\n",
       "      <td>NatGrid NYC</td>\n",
       "      <td>2021</td>\n",
       "    </tr>\n",
       "  </tbody>\n",
       "</table>\n",
       "<p>2547 rows × 26 columns</p>\n",
       "</div>"
      ],
      "text/plain": [
       "       Development Name   Borough      Account Name       Location  \\\n",
       "178509            ADAMS     BRONX             ADAMS         BLD 04   \n",
       "178510            ADAMS     BRONX             ADAMS         BLD 04   \n",
       "178520            ADAMS     BRONX             ADAMS         BLD 04   \n",
       "178521            ADAMS     BRONX             ADAMS         BLD 04   \n",
       "178554           ALBANY  BROOKLYN  ALBANY/ALBANY II  ALBANY BLD 04   \n",
       "...                 ...       ...               ...            ...   \n",
       "198078          WOODSON  BROOKLYN           WOODSON         BLD 02   \n",
       "198091  WYCKOFF GARDENS  BROOKLYN   WYCKOFF GARDENS         BLD 03   \n",
       "198092  WYCKOFF GARDENS  BROOKLYN   WYCKOFF GARDENS         BLD 03   \n",
       "198106  WYCKOFF GARDENS  BROOKLYN   WYCKOFF GARDENS         BLD 03   \n",
       "198107  WYCKOFF GARDENS  BROOKLYN   WYCKOFF GARDENS         BLD 03   \n",
       "\n",
       "             Meter AMR Meter Scope  TDS #  EDP  RC Code Funding Source  ...  \\\n",
       "178509            NONE     BLD 1-7  118.0  248  B011800        FEDERAL  ...   \n",
       "178510            NONE     BLD 1-7  118.0  248  B011800        FEDERAL  ...   \n",
       "178520  Not Applicable         NaN  118.0  248  B011800        FEDERAL  ...   \n",
       "178521  Not Applicable         NaN  118.0  248  B011800        FEDERAL  ...   \n",
       "178554             AMR     BLD 1-6   31.0  524  K003100        FEDERAL  ...   \n",
       "...                ...         ...    ...  ...      ...            ...  ...   \n",
       "198078  Not Applicable         NaN  182.0  285  K018200        FEDERAL  ...   \n",
       "198091             AMR     BLD 1-3  163.0  272  K016300        FEDERAL  ...   \n",
       "198092             AMR     BLD 1-3  163.0  272  K016300        FEDERAL  ...   \n",
       "198106  Not Applicable         NaN  163.0  272  K016300        FEDERAL  ...   \n",
       "198107  Not Applicable         NaN  163.0  272  K016300        FEDERAL  ...   \n",
       "\n",
       "       # days     Meter Number  Estimated Current Charges        Rate Class  \\\n",
       "178509   34.0          3299599          N       124650.35           TRMDHDF   \n",
       "178510   30.0          3299599          N       103974.97           TRMDHDF   \n",
       "178520   33.0  395416152700002          N        74680.61               NaN   \n",
       "178521   29.0  395416152700002          N        74248.83               NaN   \n",
       "178554   34.0   08372362-66.8%          N        47035.14  T3 TRAN MULT FAM   \n",
       "...       ...              ...        ...             ...               ...   \n",
       "198078   22.0      00548925110          N        23889.93               NaN   \n",
       "198091   34.0         17291558          Y        40399.23  T3 TRAN MULT FAM   \n",
       "198092   29.0         17291558          Y        26746.67  T3 TRAN MULT FAM   \n",
       "198106   33.0      00178911501          N        43286.25               NaN   \n",
       "198107   28.0      00178911501          N        34604.77               NaN   \n",
       "\n",
       "       Bill Analyzed  Consumption (Therms)  ES Commodity Underlying Utility  \\\n",
       "178509           Yes             163272.46   UTILITY GAS              ConEd   \n",
       "178510           Yes             162327.62   UTILITY GAS              ConEd   \n",
       "178520           Yes             163272.00  BROKERED GAS              ConEd   \n",
       "178521           Yes             162328.00  BROKERED GAS              ConEd   \n",
       "178554           Yes             120950.75   UTILITY GAS        NatGrid NYC   \n",
       "...              ...                   ...           ...                ...   \n",
       "198078           Yes              57194.00  BROKERED GAS        NatGrid NYC   \n",
       "198091           Yes             103630.00   UTILITY GAS        NatGrid NYC   \n",
       "198092           Yes              82846.00   UTILITY GAS        NatGrid NYC   \n",
       "198106           Yes             103630.00  BROKERED GAS        NatGrid NYC   \n",
       "198107     Exception              82846.00  BROKERED GAS        NatGrid NYC   \n",
       "\n",
       "        Revenue_Year  \n",
       "178509          2021  \n",
       "178510          2021  \n",
       "178520          2021  \n",
       "178521          2021  \n",
       "178554          2021  \n",
       "...              ...  \n",
       "198078          2021  \n",
       "198091          2021  \n",
       "198092          2021  \n",
       "198106          2021  \n",
       "198107          2021  \n",
       "\n",
       "[2547 rows x 26 columns]"
      ]
     },
     "execution_count": 29,
     "metadata": {},
     "output_type": "execute_result"
    }
   ],
   "source": [
    "data_1 = data[data['Revenue_Year'] == 2021]\n",
    "data_1\n",
    "\n",
    "#Ignore 2021 because not enough data that is why it is spiking"
   ]
  },
  {
   "cell_type": "code",
   "execution_count": 30,
   "metadata": {},
   "outputs": [
    {
     "name": "stdout",
     "output_type": "stream",
     "text": [
      "2010\n",
      "2011\n",
      "2012\n",
      "2014\n",
      "2015\n",
      "2016\n",
      "2017\n",
      "2018\n",
      "2019\n",
      "2020\n"
     ]
    },
    {
     "data": {
      "text/plain": [
       "[11480.0,\n",
       " 9917.0,\n",
       " 8388.0,\n",
       " 8912.0,\n",
       " 9654.0,\n",
       " 9103.0,\n",
       " 9741.0,\n",
       " 10136.0,\n",
       " 9393.0,\n",
       " 11240.0]"
      ]
     },
     "execution_count": 30,
     "metadata": {},
     "output_type": "execute_result"
    }
   ],
   "source": [
    "average_list=[]\n",
    "data_1 = pd.DataFrame()\n",
    "\n",
    "for year in year_list:\n",
    "    data_1 = data[data['Revenue_Year'] == year]\n",
    "    print(str(year))\n",
    "    avg = np.mean(data_1['Current Charges'])\n",
    "    avg1 = np.rint(avg)\n",
    "    average_list.append(avg1)\n",
    "\n",
    "average_list"
   ]
  },
  {
   "cell_type": "code",
   "execution_count": 32,
   "metadata": {},
   "outputs": [
    {
     "data": {
      "text/plain": [
       "Text(0, 0.5, 'AVERAGE PRICE PER YEAR')"
      ]
     },
     "execution_count": 32,
     "metadata": {},
     "output_type": "execute_result"
    },
    {
     "data": {
      "image/png": "[encoded data removed]",
      "text/plain": [
       "<Figure size 432x288 with 1 Axes>"
      ]
     },
     "metadata": {
      "needs_background": "light"
     },
     "output_type": "display_data"
    }
   ],
   "source": [
    "sns.barplot(x=year_list, y=average_list, palette='mako')\n",
    "plt.title('AVERAGE GAS CHARGES PER YEAR')\n",
    "plt.xlabel('YEAR')\n",
    "plt.ylabel('AVERAGE PRICE PER YEAR')"
   ]
  }
 ],
 "metadata": {
  "kernelspec": {
   "display_name": "Python 3",
   "language": "python",
   "name": "python3"
  },
  "language_info": {
   "codemirror_mode": {
    "name": "ipython",
    "version": 3
   },
   "file_extension": ".py",
   "mimetype": "text/x-python",
   "name": "python",
   "nbconvert_exporter": "python",
   "pygments_lexer": "ipython3",
   "version": "3.8.5"
  }
 },
 "nbformat": 4,
 "nbformat_minor": 4
}
